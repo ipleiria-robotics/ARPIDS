{
 "cells": [
  {
   "cell_type": "markdown",
   "id": "06924e62",
   "metadata": {},
   "source": [
    "# Ativa e desativa o servidor websocket"
   ]
  },
  {
   "cell_type": "code",
   "execution_count": 1,
   "id": "9001d8f5",
   "metadata": {},
   "outputs": [
    {
     "name": "stdout",
     "output_type": "stream",
     "text": [
      "Iniciando comunicação via socket...\n"
     ]
    }
   ],
   "source": [
    "import psutil\n",
    "import subprocess\n",
    "import sys\n",
    "\n",
    "pid = None\n",
    "server_found = False\n",
    "\n",
    "# Procurando processos com nome de arquivo 'python'\n",
    "for proc in psutil.process_iter(['pid', 'name']):\n",
    "    if 'python' in proc.info['name']:\n",
    "        # Procurando conexões de rede do processo em execução\n",
    "        for conn in proc.connections():\n",
    "            if conn.laddr.port == 12000 and conn.status == 'LISTEN':\n",
    "                # Exibindo PID do processo encontrado\n",
    "                print(f\"1 - Encerrando servidor da porta 12000: PID {proc.info['pid']}\")\n",
    "                pid = proc.info['pid']\n",
    "                server_found = True\n",
    "\n",
    "if server_found and psutil.pid_exists(pid):\n",
    "    try:\n",
    "        # Obtendo o objeto de processo do PID especificado\n",
    "        processo = psutil.Process(pid)\n",
    "\n",
    "        # Encerrando o processo\n",
    "        processo.terminate()\n",
    "\n",
    "        print(f\"2 - Processo com PID {pid} encerrado com sucesso.\")\n",
    "    except psutil.NoSuchProcess:\n",
    "        print(f\"Processo com PID {pid} não encontrado.\")\n",
    "else:\n",
    "    print(\"Iniciando comunicação via socket...\")\n",
    "\n",
    "    # Verificando o terminal atual\n",
    "    current_terminal = sys.executable.lower()\n",
    "\n",
    "    if 'anaconda' in current_terminal:\n",
    "        subprocess.Popen(['python', 'socket_communication.py'])\n",
    "    else:\n",
    "        subprocess.Popen([sys.executable, 'socket_communication.py'])"
   ]
  },
  {
   "cell_type": "code",
   "execution_count": null,
   "id": "a34c4b0d",
   "metadata": {},
   "outputs": [],
   "source": []
  }
 ],
 "metadata": {
  "kernelspec": {
   "display_name": "Python 3 (ipykernel)",
   "language": "python",
   "name": "python3"
  },
  "language_info": {
   "codemirror_mode": {
    "name": "ipython",
    "version": 3
   },
   "file_extension": ".py",
   "mimetype": "text/x-python",
   "name": "python",
   "nbconvert_exporter": "python",
   "pygments_lexer": "ipython3",
   "version": "3.10.2"
  }
 },
 "nbformat": 4,
 "nbformat_minor": 5
}
