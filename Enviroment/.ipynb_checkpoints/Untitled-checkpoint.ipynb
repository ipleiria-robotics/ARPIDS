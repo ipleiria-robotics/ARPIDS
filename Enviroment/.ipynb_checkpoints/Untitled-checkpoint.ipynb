{
 "cells": [
  {
   "cell_type": "code",
   "execution_count": 1,
   "id": "06dc3d8a",
   "metadata": {},
   "outputs": [
    {
     "name": "stdout",
     "output_type": "stream",
     "text": [
      "Started server and listening on Port12000\n",
      "\n"
     ]
    }
   ],
   "source": [
    "import os\n",
    "import subprocess\n",
    "\n",
    "# Retorna para o diretório anterior\n",
    "os.chdir('..')\n",
    "\n",
    "# Define o nome do diretório a ser acessado\n",
    "foldername = 'socket'\n",
    "\n",
    "# Acessa o diretório\n",
    "os.chdir(foldername)\n",
    "\n",
    "# Define o nome do arquivo a ser executado\n",
    "filename = 'socket_communication.py'\n",
    "\n",
    "# Executa o arquivo e captura a saída\n",
    "result = subprocess.run(['python', filename], capture_output=True, text=True)\n",
    "\n",
    "# Imprime a saída\n",
    "print(result.stdout)"
   ]
  },
  {
   "cell_type": "code",
   "execution_count": null,
   "id": "57811ca2",
   "metadata": {},
   "outputs": [],
   "source": []
  }
 ],
 "metadata": {
  "kernelspec": {
   "display_name": "Python 3 (ipykernel)",
   "language": "python",
   "name": "python3"
  },
  "language_info": {
   "codemirror_mode": {
    "name": "ipython",
    "version": 3
   },
   "file_extension": ".py",
   "mimetype": "text/x-python",
   "name": "python",
   "nbconvert_exporter": "python",
   "pygments_lexer": "ipython3",
   "version": "3.10.2"
  }
 },
 "nbformat": 4,
 "nbformat_minor": 5
}
